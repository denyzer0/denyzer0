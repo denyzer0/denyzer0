{
  "nbformat": 4,
  "nbformat_minor": 0,
  "metadata": {
    "colab": {
      "provenance": []
    },
    "kernelspec": {
      "name": "python3",
      "display_name": "Python 3"
    },
    "language_info": {
      "name": "python"
    }
  },
  "cells": [
    {
      "cell_type": "code",
      "execution_count": 4,
      "metadata": {
        "id": "VP2BgR8skNlJ"
      },
      "outputs": [],
      "source": [
        "import numpy as np\n",
        "import pandas as pd\n",
        "import matplotlib.pyplot as plt\n",
        "import seaborn as sns\n",
        "import sklearn\n",
        "from sklearn import tree"
      ]
    },
    {
      "cell_type": "code",
      "source": [
        "features = [[140,1],[130,1],[150,0],[170,0]]\n",
        "labels =[0,0,1,1]\n",
        "clf = tree.DecisionTreeClassifier()\n",
        "clf = clf.fit(features, labels)\n",
        "print(clf.predict([[170,0]]))"
      ],
      "metadata": {
        "id": "mZUr2rKwkjxd",
        "colab": {
          "base_uri": "https://localhost:8080/"
        },
        "outputId": "a3a1ab81-ba7a-428c-9a67-2442594fc7ab"
      },
      "execution_count": 5,
      "outputs": [
        {
          "output_type": "stream",
          "name": "stdout",
          "text": [
            "[1]\n"
          ]
        }
      ]
    },
    {
      "cell_type": "code",
      "source": [],
      "metadata": {
        "id": "Mj8xINkQ_aDw"
      },
      "execution_count": 6,
      "outputs": []
    },
    {
      "cell_type": "code",
      "source": [],
      "metadata": {
        "id": "D2p9jPkxBObf"
      },
      "execution_count": null,
      "outputs": []
    }
  ]
}